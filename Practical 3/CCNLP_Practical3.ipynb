{
 "cells": [
  {
   "cell_type": "code",
   "execution_count": 1,
   "metadata": {},
   "outputs": [],
   "source": [
    "!pip install --upgrade ibm-watson>=4.7\n",
    "import json\n",
    "from ibm_watson import NaturalLanguageUnderstandingV1\n",
    "from ibm_cloud_sdk_core.authenticators import IAMAuthenticator\n",
    "from ibm_watson.natural_language_understanding_v1 import Features, CategoriesOptions"
   ]
  },
  {
   "cell_type": "code",
   "execution_count": 2,
   "metadata": {},
   "outputs": [],
   "source": [
    "authenticator = IAMAuthenticator('IijyDj9b6F5A77ai49WiJ-dRksDKCOBViKfY1r-E-MJR')"
   ]
  },
  {
   "cell_type": "markdown",
   "metadata": {},
   "source": [
    "### NLU Concepts Features"
   ]
  },
  {
   "cell_type": "code",
   "execution_count": 15,
   "metadata": {},
   "outputs": [],
   "source": [
    "natural_language_understanding = NaturalLanguageUnderstandingV1(version='2019-07-12',authenticator=authenticator)\n",
    "natural_language_understanding.set_service_url('https://api.eu-gb.natural-language-understanding.watson.cloud.ibm.com/instances/b1050ce3-a715-4cfa-a1d4-c63643b19f30')"
   ]
  },
  {
   "cell_type": "code",
   "execution_count": 16,
   "metadata": {},
   "outputs": [
    {
     "name": "stdout",
     "output_type": "stream",
     "text": [
      "{\n",
      "  \"usage\": {\n",
      "    \"text_units\": 1,\n",
      "    \"text_characters\": 590,\n",
      "    \"features\": 1\n",
      "  },\n",
      "  \"retrieved_url\": \"https://www.youtube.com/\",\n",
      "  \"language\": \"en\",\n",
      "  \"categories\": [\n",
      "    {\n",
      "      \"score\": 0.81247,\n",
      "      \"label\": \"/technology and computing/internet technology/social network\"\n",
      "    },\n",
      "    {\n",
      "      \"score\": 0.631961,\n",
      "      \"label\": \"/technology and computing/internet technology/internet cafes\"\n",
      "    },\n",
      "    {\n",
      "      \"score\": 0.598044,\n",
      "      \"label\": \"/technology and computing/internet technology/isps\"\n",
      "    }\n",
      "  ]\n",
      "}\n"
     ]
    }
   ],
   "source": [
    "response = natural_language_understanding.analyze(url='www.youtube.com',features=Features(categories=CategoriesOptions(limit=5)),language='en').get_result()\n",
    "print(json.dumps(response,indent=2))"
   ]
  },
  {
   "cell_type": "markdown",
   "metadata": {},
   "source": [
    "### NLU Emotions Features"
   ]
  },
  {
   "cell_type": "code",
   "execution_count": 17,
   "metadata": {},
   "outputs": [
    {
     "name": "stdout",
     "output_type": "stream",
     "text": [
      "{\n",
      "  \"usage\": {\n",
      "    \"text_units\": 1,\n",
      "    \"text_characters\": 371,\n",
      "    \"features\": 1\n",
      "  },\n",
      "  \"language\": \"en\",\n",
      "  \"emotion\": {\n",
      "    \"targets\": [\n",
      "      {\n",
      "        \"text\": \"Science\",\n",
      "        \"emotion\": {\n",
      "          \"sadness\": 0.127974,\n",
      "          \"joy\": 0.595299,\n",
      "          \"fear\": 0.032478,\n",
      "          \"disgust\": 0.00761,\n",
      "          \"anger\": 0.007259\n",
      "        }\n",
      "      }\n",
      "    ],\n",
      "    \"document\": {\n",
      "      \"emotion\": {\n",
      "        \"sadness\": 0.174299,\n",
      "        \"joy\": 0.7121,\n",
      "        \"fear\": 0.049577,\n",
      "        \"disgust\": 0.003456,\n",
      "        \"anger\": 0.015958\n",
      "      }\n",
      "    }\n",
      "  }\n",
      "}\n"
     ]
    }
   ],
   "source": [
    "from ibm_watson.natural_language_understanding_v1 import Features, EmotionOptions\n",
    "response = natural_language_understanding.analyze(text= \"Science has contributed to all the sectors increased employment opportunities, saved millions of lives and has played a major role in a lot of industries. Science is very important for the growth and development of India. It even plays a key role in our daily lives. Every country should invest as much as possible in research and development for scientific technologies.\",features=Features(emotion=EmotionOptions(targets=['Science','Students']))).get_result()\n",
    "print(json.dumps(response,indent=2))"
   ]
  },
  {
   "cell_type": "code",
   "execution_count": 18,
   "metadata": {},
   "outputs": [
    {
     "name": "stdout",
     "output_type": "stream",
     "text": [
      "{\n",
      "  \"usage\": {\n",
      "    \"text_units\": 1,\n",
      "    \"text_characters\": 37,\n",
      "    \"features\": 1\n",
      "  },\n",
      "  \"language\": \"en\",\n",
      "  \"emotion\": {\n",
      "    \"targets\": [\n",
      "      {\n",
      "        \"text\": \"apples\",\n",
      "        \"emotion\": {\n",
      "          \"sadness\": 0.028574,\n",
      "          \"joy\": 0.859042,\n",
      "          \"fear\": 0.02752,\n",
      "          \"disgust\": 0.017519,\n",
      "          \"anger\": 0.012855\n",
      "        }\n",
      "      },\n",
      "      {\n",
      "        \"text\": \"oranges\",\n",
      "        \"emotion\": {\n",
      "          \"sadness\": 0.514253,\n",
      "          \"joy\": 0.078317,\n",
      "          \"fear\": 0.074223,\n",
      "          \"disgust\": 0.058103,\n",
      "          \"anger\": 0.126859\n",
      "        }\n",
      "      }\n",
      "    ],\n",
      "    \"document\": {\n",
      "      \"emotion\": {\n",
      "        \"sadness\": 0.32665,\n",
      "        \"joy\": 0.563273,\n",
      "        \"fear\": 0.033387,\n",
      "        \"disgust\": 0.022637,\n",
      "        \"anger\": 0.041796\n",
      "      }\n",
      "    }\n",
      "  }\n",
      "}\n"
     ]
    }
   ],
   "source": [
    "response = natural_language_understanding.analyze(html='<html><head><title>Fruits</title></head><body><h1>Apples and Oranges</h1><p>I love apples! I don\\'t like oranges.</p></body></html>',features=Features(emotion=EmotionOptions(targets=['apples','oranges']))).get_result()\n",
    "print(json.dumps(response,indent=2))"
   ]
  },
  {
   "cell_type": "markdown",
   "metadata": {},
   "source": [
    "### Entities Features"
   ]
  },
  {
   "cell_type": "code",
   "execution_count": 19,
   "metadata": {},
   "outputs": [
    {
     "name": "stdout",
     "output_type": "stream",
     "text": [
      "{\n",
      "  \"usage\": {\n",
      "    \"text_units\": 1,\n",
      "    \"text_characters\": 3209,\n",
      "    \"features\": 1\n",
      "  },\n",
      "  \"retrieved_url\": \"https://www.cnn.com/\",\n",
      "  \"language\": \"en\",\n",
      "  \"entities\": [\n",
      "    {\n",
      "      \"type\": \"Company\",\n",
      "      \"text\": \"CNN\",\n",
      "      \"sentiment\": {\n",
      "        \"score\": 0.858806,\n",
      "        \"label\": \"positive\"\n",
      "      },\n",
      "      \"relevance\": 0.970822,\n",
      "      \"disambiguation\": {\n",
      "        \"subtype\": [\n",
      "          \"Broadcast\",\n",
      "          \"AwardWinner\",\n",
      "          \"RadioNetwork\",\n",
      "          \"TVNetwork\"\n",
      "        ],\n",
      "        \"name\": \"CNN\",\n",
      "        \"dbpedia_resource\": \"http://dbpedia.org/resource/CNN\"\n",
      "      },\n",
      "      \"count\": 18,\n",
      "      \"confidence\": 1\n",
      "    }\n",
      "  ]\n",
      "}\n"
     ]
    }
   ],
   "source": [
    "from ibm_watson.natural_language_understanding_v1 import Features, EntitiesOptions\n",
    "response = natural_language_understanding.analyze(url='www.cnn.com',features=Features(entities=EntitiesOptions(sentiment=True,limit=1))).get_result()\n",
    "print(json.dumps(response,indent=2))"
   ]
  },
  {
   "cell_type": "markdown",
   "metadata": {},
   "source": [
    "### Keywords Features"
   ]
  },
  {
   "cell_type": "code",
   "execution_count": 20,
   "metadata": {},
   "outputs": [
    {
     "name": "stdout",
     "output_type": "stream",
     "text": [
      "{\n",
      "  \"usage\": {\n",
      "    \"text_units\": 1,\n",
      "    \"text_characters\": 1373,\n",
      "    \"features\": 1\n",
      "  },\n",
      "  \"retrieved_url\": \"https://www.artofliving.org/in-en\",\n",
      "  \"language\": \"en\",\n",
      "  \"keywords\": [\n",
      "    {\n",
      "      \"text\": \"significant difference\",\n",
      "      \"sentiment\": {\n",
      "        \"score\": 0.969608,\n",
      "        \"label\": \"positive\"\n",
      "      },\n",
      "      \"relevance\": 0.711331,\n",
      "      \"emotion\": {\n",
      "        \"sadness\": 0.245433,\n",
      "        \"joy\": 0.438552,\n",
      "        \"fear\": 0.030454,\n",
      "        \"disgust\": 0.008267,\n",
      "        \"anger\": 0.269193\n",
      "      },\n",
      "      \"count\": 1\n",
      "    },\n",
      "    {\n",
      "      \"text\": \"program of authentic yoga\",\n",
      "      \"sentiment\": {\n",
      "        \"score\": 0.796294,\n",
      "        \"label\": \"positive\"\n",
      "      },\n",
      "      \"relevance\": 0.671279,\n",
      "      \"emotion\": {\n",
      "        \"sadness\": 0.286278,\n",
      "        \"joy\": 0.388425,\n",
      "        \"fear\": 0.130338,\n",
      "        \"disgust\": 0.007699,\n",
      "        \"anger\": 0.047217\n",
      "      },\n",
      "      \"count\": 1\n",
      "    }\n",
      "  ]\n",
      "}\n"
     ]
    }
   ],
   "source": [
    "from ibm_watson.natural_language_understanding_v1 import Features,KeywordsOptions\n",
    "response = natural_language_understanding.analyze(url='https://www.artofliving.org/in-en',features=Features(keywords=KeywordsOptions(sentiment=True,emotion=True,limit=2))).get_result()\n",
    "print(json.dumps(response,indent=2))"
   ]
  },
  {
   "cell_type": "markdown",
   "metadata": {},
   "source": [
    "### Relations Features "
   ]
  },
  {
   "cell_type": "code",
   "execution_count": 21,
   "metadata": {},
   "outputs": [],
   "source": [
    "!pip install --upgrade ibm-watson>4.7\n",
    "import json\n",
    "from ibm_watson import NaturalLanguageUnderstandingV1\n",
    "from ibm_watson.natural_language_understanding_v1 import Features, RelationsOptions"
   ]
  },
  {
   "cell_type": "code",
   "execution_count": 22,
   "metadata": {},
   "outputs": [],
   "source": [
    "from ibm_cloud_sdk_core.authenticators import IAMAuthenticator"
   ]
  },
  {
   "cell_type": "code",
   "execution_count": 23,
   "metadata": {},
   "outputs": [],
   "source": [
    "authenticator = IAMAuthenticator('IijyDj9b6F5A77ai49WiJ-dRksDKCOBViKfY1r-E-MJR')"
   ]
  },
  {
   "cell_type": "code",
   "execution_count": 24,
   "metadata": {},
   "outputs": [],
   "source": [
    "natural_language_understanding = NaturalLanguageUnderstandingV1(version='2019-07-12',authenticator=authenticator)\n",
    "natural_language_understanding.set_service_url('https://api.eu-gb.natural-language-understanding.watson.cloud.ibm.com/instances/b1050ce3-a715-4cfa-a1d4-c63643b19f30')"
   ]
  },
  {
   "cell_type": "code",
   "execution_count": 25,
   "metadata": {},
   "outputs": [
    {
     "name": "stdout",
     "output_type": "stream",
     "text": [
      "{\n",
      "  \"usage\": {\n",
      "    \"text_units\": 1,\n",
      "    \"text_characters\": 71,\n",
      "    \"features\": 1\n",
      "  },\n",
      "  \"relations\": [\n",
      "    {\n",
      "      \"type\": \"awardedTo\",\n",
      "      \"sentence\": \"Leonardo DiCaprio won Best Actor in a Leading Role for his performance.\",\n",
      "      \"score\": 0.680715,\n",
      "      \"arguments\": [\n",
      "        {\n",
      "          \"text\": \"Best Actor\",\n",
      "          \"location\": [\n",
      "            22,\n",
      "            32\n",
      "          ],\n",
      "          \"entities\": [\n",
      "            {\n",
      "              \"type\": \"EntertainmentAward\",\n",
      "              \"text\": \"Best Actor\"\n",
      "            }\n",
      "          ]\n",
      "        },\n",
      "        {\n",
      "          \"text\": \"Leonardo DiCaprio\",\n",
      "          \"location\": [\n",
      "            0,\n",
      "            17\n",
      "          ],\n",
      "          \"entities\": [\n",
      "            {\n",
      "              \"type\": \"Person\",\n",
      "              \"text\": \"Leonardo DiCaprio\"\n",
      "            }\n",
      "          ]\n",
      "        }\n",
      "      ]\n",
      "    }\n",
      "  ],\n",
      "  \"language\": \"en\"\n",
      "}\n"
     ]
    }
   ],
   "source": [
    "response = natural_language_understanding.analyze(text='Leonardo DiCaprio won Best Actor in a Leading Role for his performance.',features=Features(relations=RelationsOptions())).get_result()\n",
    "print(json.dumps(response,indent=2))"
   ]
  },
  {
   "cell_type": "markdown",
   "metadata": {},
   "source": [
    "### Semantic Analysis"
   ]
  },
  {
   "cell_type": "code",
   "execution_count": 26,
   "metadata": {},
   "outputs": [
    {
     "name": "stdout",
     "output_type": "stream",
     "text": [
      "{\n",
      "  \"usage\": {\n",
      "    \"text_units\": 1,\n",
      "    \"text_characters\": 50,\n",
      "    \"features\": 1\n",
      "  },\n",
      "  \"semantic_roles\": [\n",
      "    {\n",
      "      \"subject\": {\n",
      "        \"text\": \"IBM\"\n",
      "      },\n",
      "      \"sentence\": \"IBM has one of the largest workforces in the world\",\n",
      "      \"object\": {\n",
      "        \"text\": \"one of the largest workforces in the world\"\n",
      "      },\n",
      "      \"action\": {\n",
      "        \"verb\": {\n",
      "          \"text\": \"have\",\n",
      "          \"tense\": \"present\"\n",
      "        },\n",
      "        \"text\": \"has\",\n",
      "        \"normalized\": \"have\"\n",
      "      }\n",
      "    }\n",
      "  ],\n",
      "  \"language\": \"en\"\n",
      "}\n"
     ]
    }
   ],
   "source": [
    "from ibm_watson.natural_language_understanding_v1 import Features, SemanticRolesOptions\n",
    "response = natural_language_understanding.analyze(text='IBM has one of the largest workforces in the world',features=Features(semantic_roles=SemanticRolesOptions())).get_result()\n",
    "print(json.dumps(response,indent=2))"
   ]
  },
  {
   "cell_type": "markdown",
   "metadata": {},
   "source": [
    "### Sentiment analysis "
   ]
  },
  {
   "cell_type": "code",
   "execution_count": 27,
   "metadata": {},
   "outputs": [
    {
     "name": "stdout",
     "output_type": "stream",
     "text": [
      "{\n",
      "  \"usage\": {\n",
      "    \"text_units\": 2,\n",
      "    \"text_characters\": 17736,\n",
      "    \"features\": 1\n",
      "  },\n",
      "  \"sentiment\": {\n",
      "    \"targets\": [\n",
      "      {\n",
      "        \"text\": \"peace\",\n",
      "        \"score\": 0.784333,\n",
      "        \"label\": \"positive\"\n",
      "      }\n",
      "    ],\n",
      "    \"document\": {\n",
      "      \"score\": 0.739952,\n",
      "      \"label\": \"positive\"\n",
      "    }\n",
      "  },\n",
      "  \"retrieved_url\": \"https://mitwpu.edu.in/\",\n",
      "  \"language\": \"en\"\n",
      "}\n"
     ]
    }
   ],
   "source": [
    "from ibm_watson.natural_language_understanding_v1 import Features,SentimentOptions\n",
    "response = natural_language_understanding.analyze(url='www.mitwpu.edu.in',features=Features(sentiment=SentimentOptions(targets=['peace']))).get_result()\n",
    "print(json.dumps(response,indent=2))"
   ]
  },
  {
   "cell_type": "markdown",
   "metadata": {},
   "source": [
    "### Syntax Analysis"
   ]
  },
  {
   "cell_type": "code",
   "execution_count": 28,
   "metadata": {},
   "outputs": [
    {
     "name": "stdout",
     "output_type": "stream",
     "text": [
      "{\n",
      "  \"usage\": {\n",
      "    \"text_units\": 1,\n",
      "    \"text_characters\": 43,\n",
      "    \"features\": 1\n",
      "  },\n",
      "  \"syntax\": {\n",
      "    \"tokens\": [\n",
      "      {\n",
      "        \"text\": \"With\",\n",
      "        \"part_of_speech\": \"ADP\",\n",
      "        \"location\": [\n",
      "          0,\n",
      "          4\n",
      "        ],\n",
      "        \"lemma\": \"with\"\n",
      "      },\n",
      "      {\n",
      "        \"text\": \"great\",\n",
      "        \"part_of_speech\": \"ADJ\",\n",
      "        \"location\": [\n",
      "          5,\n",
      "          10\n",
      "        ],\n",
      "        \"lemma\": \"great\"\n",
      "      },\n",
      "      {\n",
      "        \"text\": \"power\",\n",
      "        \"part_of_speech\": \"NOUN\",\n",
      "        \"location\": [\n",
      "          11,\n",
      "          16\n",
      "        ],\n",
      "        \"lemma\": \"power\"\n",
      "      },\n",
      "      {\n",
      "        \"text\": \"comes\",\n",
      "        \"part_of_speech\": \"VERB\",\n",
      "        \"location\": [\n",
      "          17,\n",
      "          22\n",
      "        ],\n",
      "        \"lemma\": \"come\"\n",
      "      },\n",
      "      {\n",
      "        \"text\": \"great\",\n",
      "        \"part_of_speech\": \"ADJ\",\n",
      "        \"location\": [\n",
      "          23,\n",
      "          28\n",
      "        ],\n",
      "        \"lemma\": \"great\"\n",
      "      },\n",
      "      {\n",
      "        \"text\": \"responsibility\",\n",
      "        \"part_of_speech\": \"NOUN\",\n",
      "        \"location\": [\n",
      "          29,\n",
      "          43\n",
      "        ],\n",
      "        \"lemma\": \"responsibility\"\n",
      "      }\n",
      "    ],\n",
      "    \"sentences\": [\n",
      "      {\n",
      "        \"text\": \"With great power comes great responsibility\",\n",
      "        \"location\": [\n",
      "          0,\n",
      "          43\n",
      "        ]\n",
      "      }\n",
      "    ]\n",
      "  },\n",
      "  \"language\": \"en\"\n",
      "}\n"
     ]
    }
   ],
   "source": [
    "from ibm_watson.natural_language_understanding_v1 import Features, SyntaxOptions, SyntaxOptionsTokens\n",
    "response = natural_language_understanding.analyze(text='With great power comes great responsibility',features=Features(syntax=SyntaxOptions(sentences=True,tokens=SyntaxOptionsTokens(lemma=True,part_of_speech=True)))).get_result()\n",
    "print(json.dumps(response,indent=2))"
   ]
  },
  {
   "cell_type": "code",
   "execution_count": null,
   "metadata": {},
   "outputs": [],
   "source": []
  }
 ],
 "metadata": {
  "kernelspec": {
   "display_name": "Python 3",
   "language": "python",
   "name": "python3"
  },
  "language_info": {
   "codemirror_mode": {
    "name": "ipython",
    "version": 3
   },
   "file_extension": ".py",
   "mimetype": "text/x-python",
   "name": "python",
   "nbconvert_exporter": "python",
   "pygments_lexer": "ipython3",
   "version": "3.7.4"
  }
 },
 "nbformat": 4,
 "nbformat_minor": 2
}
