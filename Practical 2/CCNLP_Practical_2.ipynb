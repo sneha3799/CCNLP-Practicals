{
 "cells": [
  {
   "cell_type": "markdown",
   "metadata": {},
   "source": [
    "# Practical 2 \n",
    "\n",
    "## Name - Sneha Rao \n",
    "## Batch - 2\n",
    "## Roll no - PC28"
   ]
  },
  {
   "cell_type": "markdown",
   "metadata": {},
   "source": [
    "## TTS using Watson API"
   ]
  },
  {
   "cell_type": "code",
   "execution_count": 1,
   "metadata": {},
   "outputs": [
    {
     "name": "stdout",
     "output_type": "stream",
     "text": [
      "Collecting ibm_watson\n",
      "  Downloading ibm-watson-5.0.0.tar.gz (381 kB)\n",
      "Requirement already satisfied: requests<3.0,>=2.0 in c:\\users\\user\\anaconda3\\lib\\site-packages (from ibm_watson) (2.22.0)\n",
      "Requirement already satisfied: python_dateutil>=2.5.3 in c:\\users\\user\\anaconda3\\lib\\site-packages (from ibm_watson) (2.8.0)\n",
      "Collecting websocket-client==0.48.0\n",
      "  Downloading websocket_client-0.48.0-py2.py3-none-any.whl (198 kB)\n",
      "Collecting ibm_cloud_sdk_core==1.7.3\n",
      "  Downloading ibm-cloud-sdk-core-1.7.3.tar.gz (27 kB)\n",
      "Requirement already satisfied: certifi>=2017.4.17 in c:\\users\\user\\anaconda3\\lib\\site-packages (from requests<3.0,>=2.0->ibm_watson) (2019.9.11)\n",
      "Requirement already satisfied: idna<2.9,>=2.5 in c:\\users\\user\\anaconda3\\lib\\site-packages (from requests<3.0,>=2.0->ibm_watson) (2.8)\n",
      "Requirement already satisfied: urllib3!=1.25.0,!=1.25.1,<1.26,>=1.21.1 in c:\\users\\user\\anaconda3\\lib\\site-packages (from requests<3.0,>=2.0->ibm_watson) (1.24.2)\n",
      "Requirement already satisfied: chardet<3.1.0,>=3.0.2 in c:\\users\\user\\anaconda3\\lib\\site-packages (from requests<3.0,>=2.0->ibm_watson) (3.0.4)\n",
      "Requirement already satisfied: six>=1.5 in c:\\users\\user\\anaconda3\\lib\\site-packages (from python_dateutil>=2.5.3->ibm_watson) (1.12.0)\n",
      "Collecting PyJWT>=1.7.1\n",
      "  Downloading PyJWT-1.7.1-py2.py3-none-any.whl (18 kB)\n",
      "Building wheels for collected packages: ibm-watson, ibm-cloud-sdk-core\n",
      "  Building wheel for ibm-watson (setup.py): started\n",
      "  Building wheel for ibm-watson (setup.py): finished with status 'done'\n",
      "  Created wheel for ibm-watson: filename=ibm_watson-5.0.0-py3-none-any.whl size=375165 sha256=dde608dceb776dc485528aa7b76f777d831d53df8ef7995105a5577c618ab64e\n",
      "  Stored in directory: c:\\users\\user\\appdata\\local\\pip\\cache\\wheels\\41\\c5\\66\\3345ab09dddd48e8ce1dddca693a35c32d3ccbf2c1c469f8c3\n",
      "  Building wheel for ibm-cloud-sdk-core (setup.py): started\n",
      "  Building wheel for ibm-cloud-sdk-core (setup.py): finished with status 'done'\n",
      "  Created wheel for ibm-cloud-sdk-core: filename=ibm_cloud_sdk_core-1.7.3-py3-none-any.whl size=45948 sha256=9649f0d78764867854c42883a2908693698fd026f9ef0fc3f8cd074d7c95a690\n",
      "  Stored in directory: c:\\users\\user\\appdata\\local\\pip\\cache\\wheels\\c6\\5f\\fb\\c2daef3706ded7e718641a60d097be3116a6b70a8f236753f2\n",
      "Successfully built ibm-watson ibm-cloud-sdk-core\n",
      "Installing collected packages: websocket-client, PyJWT, ibm-cloud-sdk-core, ibm-watson\n",
      "Successfully installed PyJWT-1.7.1 ibm-cloud-sdk-core-1.7.3 ibm-watson-5.0.0 websocket-client-0.48.0\n"
     ]
    },
    {
     "name": "stderr",
     "output_type": "stream",
     "text": [
      "WARNING: You are using pip version 20.0.2; however, version 20.3.1 is available.\n",
      "You should consider upgrading via the 'c:\\users\\user\\anaconda3\\python.exe -m pip install --upgrade pip' command.\n"
     ]
    }
   ],
   "source": [
    "!pip install ibm_watson"
   ]
  },
  {
   "cell_type": "code",
   "execution_count": 2,
   "metadata": {},
   "outputs": [],
   "source": [
    "api_key = 'q4V3UIMycsDvrqcmTz-THPL1uKEDz75NvjstkG1UZSXd'\n",
    "url = 'https://api.eu-gb.text-to-speech.watson.cloud.ibm.com/instances/1d23e9f0-82e1-4ad6-be7c-a99726b44551'"
   ]
  },
  {
   "cell_type": "code",
   "execution_count": 3,
   "metadata": {},
   "outputs": [],
   "source": [
    "from ibm_watson import TextToSpeechV1\n",
    "from ibm_cloud_sdk_core.authenticators import IAMAuthenticator"
   ]
  },
  {
   "cell_type": "code",
   "execution_count": 4,
   "metadata": {},
   "outputs": [],
   "source": [
    "authenticator = IAMAuthenticator(api_key)\n",
    "tts = TextToSpeechV1(authenticator=authenticator)\n",
    "tts.set_service_url(url)"
   ]
  },
  {
   "cell_type": "code",
   "execution_count": 5,
   "metadata": {},
   "outputs": [],
   "source": [
    "with open('./speech.mp3','wb') as audio_file:\n",
    "    res = tts.synthesize('Basic tts',accept='audio/mp3',voice='en-US_AllisonV3Voice').get_result()\n",
    "    audio_file.write(res.content)"
   ]
  },
  {
   "cell_type": "code",
   "execution_count": 8,
   "metadata": {},
   "outputs": [],
   "source": [
    "with open('random.txt','r') as f:\n",
    "    text = f.readlines()"
   ]
  },
  {
   "cell_type": "code",
   "execution_count": 9,
   "metadata": {},
   "outputs": [
    {
     "data": {
      "text/plain": [
       "['A paragraph is a series of related sentences developing a central idea, called the topic. Try to think about paragraphs in terms of thematic unity: a paragraph is a sentence or a group of sentences that supports one central, unified idea. Paragraphs add one idea at a time to your broader argument.']"
      ]
     },
     "execution_count": 9,
     "metadata": {},
     "output_type": "execute_result"
    }
   ],
   "source": [
    "text"
   ]
  },
  {
   "cell_type": "code",
   "execution_count": 11,
   "metadata": {},
   "outputs": [],
   "source": [
    "with open('./tts.mp3','wb') as audio_file:\n",
    "    res = tts.synthesize(str(text),accept='audio/mp3',voice='en-US_AllisonV3Voice').get_result()\n",
    "    audio_file.write(res.content)"
   ]
  },
  {
   "cell_type": "markdown",
   "metadata": {},
   "source": [
    "## STS using Watson API"
   ]
  },
  {
   "cell_type": "code",
   "execution_count": 13,
   "metadata": {},
   "outputs": [],
   "source": [
    "apikey = '7QYIVIMNzfRnvOpv9Eu-qmt3IN4NgPBqqhSrePYnPqbv'\n",
    "url1 = 'https://api.eu-gb.speech-to-text.watson.cloud.ibm.com/instances/8a2eb7b5-371f-4934-bc2a-1d970ac1d703'"
   ]
  },
  {
   "cell_type": "code",
   "execution_count": 14,
   "metadata": {},
   "outputs": [],
   "source": [
    "from ibm_watson import SpeechToTextV1\n",
    "from ibm_cloud_sdk_core.authenticators import IAMAuthenticator"
   ]
  },
  {
   "cell_type": "code",
   "execution_count": 15,
   "metadata": {},
   "outputs": [],
   "source": [
    "authenticator_ = IAMAuthenticator(apikey)\n",
    "stt = SpeechToTextV1(authenticator=authenticator_)\n",
    "stt.set_service_url(url1)"
   ]
  },
  {
   "cell_type": "code",
   "execution_count": 19,
   "metadata": {},
   "outputs": [],
   "source": [
    "with open('speech.mp3','rb') as f:\n",
    "    result = stt.recognize(audio=f,content_type='audio/mp3',model='en-US_NarrowbandModel',continous=True).get_result()"
   ]
  },
  {
   "cell_type": "code",
   "execution_count": 20,
   "metadata": {},
   "outputs": [
    {
     "data": {
      "text/plain": [
       "{'result_index': 0,\n",
       " 'results': [{'final': True,\n",
       "   'alternatives': [{'transcript': 'basic T. T. S. ', 'confidence': 0.57}]}]}"
      ]
     },
     "execution_count": 20,
     "metadata": {},
     "output_type": "execute_result"
    }
   ],
   "source": [
    "result"
   ]
  },
  {
   "cell_type": "code",
   "execution_count": 31,
   "metadata": {},
   "outputs": [],
   "source": [
    "st = ' '.join(list(str(result['results'][0]['alternatives'][0]['transcript'][:5])))"
   ]
  },
  {
   "cell_type": "code",
   "execution_count": 33,
   "metadata": {},
   "outputs": [
    {
     "data": {
      "text/plain": [
       "'b a s i c'"
      ]
     },
     "execution_count": 33,
     "metadata": {},
     "output_type": "execute_result"
    }
   ],
   "source": [
    "st"
   ]
  },
  {
   "cell_type": "code",
   "execution_count": 32,
   "metadata": {},
   "outputs": [],
   "source": [
    "with open('./sts.mp3','wb') as audio_file:\n",
    "    res = tts.synthesize(st,accept='audio/mp3',voice='en-US_AllisonV3Voice').get_result()\n",
    "    audio_file.write(res.content)"
   ]
  },
  {
   "cell_type": "markdown",
   "metadata": {},
   "source": [
    "## Basic Mathematical operations using STT Watson API"
   ]
  },
  {
   "cell_type": "code",
   "execution_count": 40,
   "metadata": {},
   "outputs": [],
   "source": [
    "def calculator(file):\n",
    "    dict_ = {\"zero\":0,\"one\":1,\"two\":2,\"three\":3,\"four\":4,\"five\":5,\"six\":6,\"seven\":7,\"eight\":8,\"nine\":9}\n",
    "    with open(file,'rb') as f:\n",
    "        result = stt.recognize(audio=f,content_type='audio/mp3',model='en-US_NarrowbandModel',continous=True).get_result()\n",
    "    command = result['results'][0]['alternatives'][0]['transcript']\n",
    "    print(\"Recognized command \",command)\n",
    "    c = command.split()\n",
    "    \n",
    "    try:\n",
    "        n1 = dict_[c[0]]\n",
    "        n2 = dict_[c[2]]\n",
    "        \n",
    "        if c[1] == \"plus\":\n",
    "            print(\"Result is \",(n1+n2))\n",
    "        elif c[1] == \"minus\":\n",
    "            print(\"Result is \",(n1-n2))\n",
    "        elif c[1] == \"multiply\":\n",
    "            print(\"Result is \",(n1*n2))\n",
    "        elif c[1] == \"divide\":\n",
    "            print(\"Result is \",(n1/n2))\n",
    "        else:\n",
    "            print(\"Not found\")\n",
    "    except:\n",
    "        print(\"Command not found\")"
   ]
  },
  {
   "cell_type": "code",
   "execution_count": 42,
   "metadata": {},
   "outputs": [
    {
     "name": "stdout",
     "output_type": "stream",
     "text": [
      "Recognized command  one plus two \n",
      "Result is  3\n",
      "Recognized command  three multiply three \n",
      "Result is  9\n",
      "Recognized command  four minus three \n",
      "Result is  1\n",
      "Recognized command  seven divide one \n",
      "Result is  7.0\n"
     ]
    }
   ],
   "source": [
    "calculator('calc1.mp3')\n",
    "calculator('calc2.mp3')\n",
    "calculator('calc3.mp3')\n",
    "calculator('calc4.mp3')"
   ]
  },
  {
   "cell_type": "code",
   "execution_count": null,
   "metadata": {},
   "outputs": [],
   "source": []
  }
 ],
 "metadata": {
  "kernelspec": {
   "display_name": "Python 3",
   "language": "python",
   "name": "python3"
  },
  "language_info": {
   "codemirror_mode": {
    "name": "ipython",
    "version": 3
   },
   "file_extension": ".py",
   "mimetype": "text/x-python",
   "name": "python",
   "nbconvert_exporter": "python",
   "pygments_lexer": "ipython3",
   "version": "3.7.4"
  }
 },
 "nbformat": 4,
 "nbformat_minor": 2
}
