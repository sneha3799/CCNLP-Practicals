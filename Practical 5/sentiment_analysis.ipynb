{
 "cells": [
  {
   "cell_type": "code",
   "execution_count": 2,
   "metadata": {},
   "outputs": [
    {
     "name": "stdout",
     "output_type": "stream",
     "text": [
      "Collecting sklearn\n",
      "  Downloading https://files.pythonhosted.org/packages/1e/7a/dbb3be0ce9bd5c8b7e3d87328e79063f8b263b2b1bfa4774cb1147bfcd3f/sklearn-0.0.tar.gz\n",
      "Collecting scikit-learn\n",
      "\u001b[?25l  Downloading https://files.pythonhosted.org/packages/7f/c1/e19f767594035028b6ab88010742300ce5fcbdfeff051fc9afffcbebf644/scikit_learn-0.23.2-cp38-cp38-manylinux1_x86_64.whl (6.8MB)\n",
      "\u001b[K     |████████████████████████████████| 6.8MB 1.0MB/s eta 0:00:01\n",
      "\u001b[?25hCollecting threadpoolctl>=2.0.0\n",
      "  Downloading https://files.pythonhosted.org/packages/f7/12/ec3f2e203afa394a149911729357aa48affc59c20e2c1c8297a60f33f133/threadpoolctl-2.1.0-py3-none-any.whl\n",
      "Requirement already satisfied: numpy>=1.13.3 in /usr/lib/python3.8/site-packages (from scikit-learn->sklearn) (1.18.1)\n",
      "Requirement already satisfied: scipy>=0.19.1 in /usr/lib/python3.8/site-packages (from scikit-learn->sklearn) (1.4.1)\n",
      "Requirement already satisfied: joblib>=0.11 in /home/s_r/.local/lib/python3.8/site-packages (from scikit-learn->sklearn) (0.16.0)\n",
      "Building wheels for collected packages: sklearn\n",
      "  Building wheel for sklearn (setup.py) ... \u001b[?25ldone\n",
      "\u001b[?25h  Created wheel for sklearn: filename=sklearn-0.0-py2.py3-none-any.whl size=1315 sha256=cec0b923b323ceea8d31be3ce7893c6eabb8b5da0728a7d3297ad4976b33d3e2\n",
      "  Stored in directory: /home/s_r/.cache/pip/wheels/76/03/bb/589d421d27431bcd2c6da284d5f2286c8e3b2ea3cf1594c074\n",
      "Successfully built sklearn\n",
      "Installing collected packages: threadpoolctl, scikit-learn, sklearn\n",
      "Successfully installed scikit-learn-0.23.2 sklearn-0.0 threadpoolctl-2.1.0\n"
     ]
    }
   ],
   "source": [
    "!pip install sklearn --user"
   ]
  },
  {
   "cell_type": "code",
   "execution_count": 1,
   "metadata": {},
   "outputs": [],
   "source": [
    "import nltk\n",
    "import random\n",
    "from nltk.classify.scikitlearn import SklearnClassifier \n",
    "import pickle \n",
    "from sklearn.naive_bayes import MultinomialNB,BernoulliNB\n",
    "from sklearn.linear_model import LogisticRegression,SGDClassifier\n",
    "from sklearn.svm import SVC,LinearSVC,NuSVC\n",
    "from nltk.classify import ClassifierI\n",
    "from statistics import mode\n",
    "from nltk.tokenize import word_tokenize"
   ]
  },
  {
   "cell_type": "code",
   "execution_count": 2,
   "metadata": {},
   "outputs": [
    {
     "name": "stderr",
     "output_type": "stream",
     "text": [
      "[nltk_data] Downloading package punkt to /home/s_r/nltk_data...\n",
      "[nltk_data]   Package punkt is already up-to-date!\n"
     ]
    },
    {
     "data": {
      "text/plain": [
       "True"
      ]
     },
     "execution_count": 2,
     "metadata": {},
     "output_type": "execute_result"
    }
   ],
   "source": [
    "nltk.download('punkt')"
   ]
  },
  {
   "cell_type": "code",
   "execution_count": 3,
   "metadata": {},
   "outputs": [
    {
     "name": "stderr",
     "output_type": "stream",
     "text": [
      "[nltk_data] Downloading package averaged_perceptron_tagger to\n",
      "[nltk_data]     /home/s_r/nltk_data...\n",
      "[nltk_data]   Package averaged_perceptron_tagger is already up-to-\n",
      "[nltk_data]       date!\n"
     ]
    },
    {
     "data": {
      "text/plain": [
       "True"
      ]
     },
     "execution_count": 3,
     "metadata": {},
     "output_type": "execute_result"
    }
   ],
   "source": [
    "nltk.download('averaged_perceptron_tagger')"
   ]
  },
  {
   "cell_type": "code",
   "execution_count": 4,
   "metadata": {},
   "outputs": [],
   "source": [
    "class VoteClassifier(ClassifierI):\n",
    "    def __init__(self,*classifiers):\n",
    "        self._classifiers = classifiers\n",
    "        \n",
    "    def classify(self,features):\n",
    "        votes = []\n",
    "        for c in self._classifiers:\n",
    "            v = c.classify(features)\n",
    "            votes.append(v)\n",
    "        return mode(votes)\n",
    "    \n",
    "    def confidence(self,features):\n",
    "        votes = []\n",
    "        for c in self._classifiers:\n",
    "            v = c.classify(features)\n",
    "            votes.append(v)\n",
    "            \n",
    "        choice_votes = votes.count(mode(votes))\n",
    "        conf = choice_votes/len(votes)\n",
    "        \n",
    "        return conf"
   ]
  },
  {
   "cell_type": "code",
   "execution_count": 5,
   "metadata": {},
   "outputs": [],
   "source": [
    "short_pos = [line.rstrip('\\n') for line in open('short_reviews/positive.txt', 'r', encoding='ISO-8859-1')]\n",
    "short_neg = [line.rstrip('\\n') for line in open('short_reviews/negative.txt', 'r', encoding='ISO-8859-1')]\n",
    "\n",
    "all_words = []\n",
    "documents = []\n",
    "\n",
    "# j is adjective, r is adverb , v is verb\n",
    "# allowed_word_types = [\"J\",\"R\",\"V\"]\n",
    "allowed_word_types = [\"J\",\"R\",\"V\"]\n",
    "\n",
    "for p in short_pos:\n",
    "    documents.append((p,\"pos\"))\n",
    "    words = word_tokenize(p)\n",
    "    pos = nltk.pos_tag(words)\n",
    "    for w in pos:\n",
    "        if w[1][0] in allowed_word_types:\n",
    "            all_words.append(w[0].lower())\n",
    "\n",
    "for p in short_neg:\n",
    "    documents.append((p,\"neg\"))\n",
    "    words = word_tokenize(p)\n",
    "    pos = nltk.pos_tag(words)\n",
    "    for w in pos:\n",
    "        if w[1][0] in allowed_word_types:\n",
    "            all_words.append(w[0].lower())\n",
    "\n",
    "save_documents = open(\"pickled_algos/documents.pickle\",\"wb\")\n",
    "pickle.dump(documents,save_documents)\n",
    "save_documents.close()\n",
    "\n",
    "all_words = nltk.FreqDist(all_words)\n",
    "\n",
    "word_features = list(all_words.keys())[:5000]\n",
    "\n",
    "save_word_features = open(\"pickled_algos/word_features5k.pickle\",\"wb\")\n",
    "pickle.dump(word_features,save_word_features)\n",
    "save_word_features.close()"
   ]
  },
  {
   "cell_type": "code",
   "execution_count": 6,
   "metadata": {},
   "outputs": [],
   "source": [
    "def find_features(document):\n",
    "    words = word_tokenize(document)\n",
    "    features = {}\n",
    "    for w in word_features:\n",
    "        features[w] = (w in words)\n",
    "        \n",
    "    return features"
   ]
  },
  {
   "cell_type": "code",
   "execution_count": 7,
   "metadata": {
    "scrolled": true
   },
   "outputs": [
    {
     "name": "stdout",
     "output_type": "stream",
     "text": [
      "7271\n",
      "Naive Bayes Accuracy = 0.802289740202554Naive Bayes Accuracy = 0.802289740202554Naive Bayes Accuracy = 0.802289740202554Naive Bayes Accuracy = 0.802289740202554Naive Bayes Accuracy = 0.802289740202554Naive Bayes Accuracy = 0.802289740202554Naive Bayes Accuracy = 0.802289740202554Naive Bayes Accuracy = 0.802289740202554Naive Bayes Accuracy = 0.802289740202554Naive Bayes Accuracy = 0.802289740202554Naive Bayes Accuracy = 0.802289740202554Naive Bayes Accuracy = 0.802289740202554Naive Bayes Accuracy = 0.802289740202554Naive Bayes Accuracy = 0.802289740202554Naive Bayes Accuracy = 0.802289740202554Naive Bayes Accuracy = 0.802289740202554Naive Bayes Accuracy = 0.802289740202554Naive Bayes Accuracy = 0.802289740202554Naive Bayes Accuracy = 0.802289740202554Naive Bayes Accuracy = 0.802289740202554Naive Bayes Accuracy = 0.802289740202554Naive Bayes Accuracy = 0.802289740202554Naive Bayes Accuracy = 0.802289740202554Naive Bayes Accuracy = 0.802289740202554Naive Bayes Accuracy = 0.802289740202554Naive Bayes Accuracy = 0.802289740202554Naive Bayes Accuracy = 0.802289740202554Naive Bayes Accuracy = 0.802289740202554Naive Bayes Accuracy = 0.802289740202554Naive Bayes Accuracy = 0.802289740202554Naive Bayes Accuracy = 0.802289740202554Naive Bayes Accuracy = 0.802289740202554Naive Bayes Accuracy = 0.802289740202554Naive Bayes Accuracy = 0.802289740202554Naive Bayes Accuracy = 0.802289740202554Naive Bayes Accuracy = 0.802289740202554Naive Bayes Accuracy = 0.802289740202554Naive Bayes Accuracy = 0.802289740202554Naive Bayes Accuracy = 0.802289740202554Naive Bayes Accuracy = 0.802289740202554Naive Bayes Accuracy = 0.802289740202554Naive Bayes Accuracy = 0.802289740202554Naive Bayes Accuracy = 0.802289740202554Naive Bayes Accuracy = 0.802289740202554Naive Bayes Accuracy = 0.802289740202554Naive Bayes Accuracy = 0.802289740202554Naive Bayes Accuracy = 0.802289740202554Naive Bayes Accuracy = 0.802289740202554Naive Bayes Accuracy = 0.802289740202554Naive Bayes Accuracy = 0.802289740202554Naive Bayes Accuracy = 0.802289740202554Naive Bayes Accuracy = 0.802289740202554Naive Bayes Accuracy = 0.802289740202554Naive Bayes Accuracy = 0.802289740202554Naive Bayes Accuracy = 0.802289740202554Naive Bayes Accuracy = 0.802289740202554Naive Bayes Accuracy = 0.802289740202554Naive Bayes Accuracy = 0.802289740202554Naive Bayes Accuracy = 0.802289740202554Naive Bayes Accuracy = 0.802289740202554Naive Bayes Accuracy = 0.802289740202554Naive Bayes Accuracy = 0.802289740202554Naive Bayes Accuracy = 0.802289740202554Naive Bayes Accuracy = 0.802289740202554Naive Bayes Accuracy = 0.802289740202554Naive Bayes Accuracy = 0.802289740202554Naive Bayes Accuracy = 0.802289740202554Naive Bayes Accuracy = 0.802289740202554Naive Bayes Accuracy = 0.802289740202554Naive Bayes Accuracy = 0.802289740202554Naive Bayes Accuracy = 0.802289740202554Naive Bayes Accuracy = 0.802289740202554Naive Bayes Accuracy = 0.802289740202554Naive Bayes Accuracy = 0.802289740202554Naive Bayes Accuracy = 0.802289740202554Naive Bayes Accuracy = 0.802289740202554Naive Bayes Accuracy = 0.802289740202554Naive Bayes Accuracy = 0.802289740202554Naive Bayes Accuracy = 0.802289740202554Naive Bayes Accuracy = 0.802289740202554Naive Bayes Accuracy = 0.802289740202554Naive Bayes Accuracy = 0.802289740202554Naive Bayes Accuracy = 0.802289740202554Naive Bayes Accuracy = 0.802289740202554Naive Bayes Accuracy = 0.802289740202554Naive Bayes Accuracy = 0.802289740202554Naive Bayes Accuracy = 0.802289740202554Naive Bayes Accuracy = 0.802289740202554Naive Bayes Accuracy = 0.802289740202554Naive Bayes Accuracy = 0.802289740202554Naive Bayes Accuracy = 0.802289740202554Naive Bayes Accuracy = 0.802289740202554Naive Bayes Accuracy = 0.802289740202554Naive Bayes Accuracy = 0.802289740202554Naive Bayes Accuracy = 0.802289740202554Naive Bayes Accuracy = 0.802289740202554Naive Bayes Accuracy = 0.802289740202554Naive Bayes Accuracy = 0.802289740202554Naive Bayes Accuracy = 0.802289740202554Naive Bayes Accuracy = 0.802289740202554\n",
      "Most Informative Features\n",
      "                   quiet = True              pos : neg    =     17.2 : 1.0\n",
      "              engrossing = True              pos : neg    =     15.4 : 1.0\n",
      "                  nicely = True              pos : neg    =     15.4 : 1.0\n",
      "              thoughtful = True              pos : neg    =     15.4 : 1.0\n",
      "             captivating = True              pos : neg    =     11.7 : 1.0\n",
      "                captures = True              pos : neg    =     11.7 : 1.0\n",
      "               inventive = True              pos : neg    =     11.7 : 1.0\n",
      "             mesmerizing = True              pos : neg    =     11.7 : 1.0\n",
      "                poignant = True              pos : neg    =     11.7 : 1.0\n",
      "                  unique = True              pos : neg    =     11.7 : 1.0\n",
      "                    dull = True              neg : pos    =     10.7 : 1.0\n",
      "           coming-of-age = True              pos : neg    =     10.5 : 1.0\n",
      "                   grief = True              pos : neg    =     10.3 : 1.0\n",
      "                    warm = True              pos : neg    =     10.3 : 1.0\n",
      "                  deftly = True              pos : neg    =      9.9 : 1.0\n",
      "MNB Classifier Accuracy =0.8000880669308674MNB Classifier Accuracy =0.8000880669308674MNB Classifier Accuracy =0.8000880669308674MNB Classifier Accuracy =0.8000880669308674MNB Classifier Accuracy =0.8000880669308674MNB Classifier Accuracy =0.8000880669308674MNB Classifier Accuracy =0.8000880669308674MNB Classifier Accuracy =0.8000880669308674MNB Classifier Accuracy =0.8000880669308674MNB Classifier Accuracy =0.8000880669308674MNB Classifier Accuracy =0.8000880669308674MNB Classifier Accuracy =0.8000880669308674MNB Classifier Accuracy =0.8000880669308674MNB Classifier Accuracy =0.8000880669308674MNB Classifier Accuracy =0.8000880669308674MNB Classifier Accuracy =0.8000880669308674MNB Classifier Accuracy =0.8000880669308674MNB Classifier Accuracy =0.8000880669308674MNB Classifier Accuracy =0.8000880669308674MNB Classifier Accuracy =0.8000880669308674MNB Classifier Accuracy =0.8000880669308674MNB Classifier Accuracy =0.8000880669308674MNB Classifier Accuracy =0.8000880669308674MNB Classifier Accuracy =0.8000880669308674MNB Classifier Accuracy =0.8000880669308674MNB Classifier Accuracy =0.8000880669308674MNB Classifier Accuracy =0.8000880669308674MNB Classifier Accuracy =0.8000880669308674MNB Classifier Accuracy =0.8000880669308674MNB Classifier Accuracy =0.8000880669308674MNB Classifier Accuracy =0.8000880669308674MNB Classifier Accuracy =0.8000880669308674MNB Classifier Accuracy =0.8000880669308674MNB Classifier Accuracy =0.8000880669308674MNB Classifier Accuracy =0.8000880669308674MNB Classifier Accuracy =0.8000880669308674MNB Classifier Accuracy =0.8000880669308674MNB Classifier Accuracy =0.8000880669308674MNB Classifier Accuracy =0.8000880669308674MNB Classifier Accuracy =0.8000880669308674MNB Classifier Accuracy =0.8000880669308674MNB Classifier Accuracy =0.8000880669308674MNB Classifier Accuracy =0.8000880669308674MNB Classifier Accuracy =0.8000880669308674MNB Classifier Accuracy =0.8000880669308674MNB Classifier Accuracy =0.8000880669308674MNB Classifier Accuracy =0.8000880669308674MNB Classifier Accuracy =0.8000880669308674MNB Classifier Accuracy =0.8000880669308674MNB Classifier Accuracy =0.8000880669308674MNB Classifier Accuracy =0.8000880669308674MNB Classifier Accuracy =0.8000880669308674MNB Classifier Accuracy =0.8000880669308674MNB Classifier Accuracy =0.8000880669308674MNB Classifier Accuracy =0.8000880669308674MNB Classifier Accuracy =0.8000880669308674MNB Classifier Accuracy =0.8000880669308674MNB Classifier Accuracy =0.8000880669308674MNB Classifier Accuracy =0.8000880669308674MNB Classifier Accuracy =0.8000880669308674MNB Classifier Accuracy =0.8000880669308674MNB Classifier Accuracy =0.8000880669308674MNB Classifier Accuracy =0.8000880669308674MNB Classifier Accuracy =0.8000880669308674MNB Classifier Accuracy =0.8000880669308674MNB Classifier Accuracy =0.8000880669308674MNB Classifier Accuracy =0.8000880669308674MNB Classifier Accuracy =0.8000880669308674MNB Classifier Accuracy =0.8000880669308674MNB Classifier Accuracy =0.8000880669308674MNB Classifier Accuracy =0.8000880669308674MNB Classifier Accuracy =0.8000880669308674MNB Classifier Accuracy =0.8000880669308674MNB Classifier Accuracy =0.8000880669308674MNB Classifier Accuracy =0.8000880669308674MNB Classifier Accuracy =0.8000880669308674MNB Classifier Accuracy =0.8000880669308674MNB Classifier Accuracy =0.8000880669308674MNB Classifier Accuracy =0.8000880669308674MNB Classifier Accuracy =0.8000880669308674MNB Classifier Accuracy =0.8000880669308674MNB Classifier Accuracy =0.8000880669308674MNB Classifier Accuracy =0.8000880669308674MNB Classifier Accuracy =0.8000880669308674MNB Classifier Accuracy =0.8000880669308674MNB Classifier Accuracy =0.8000880669308674MNB Classifier Accuracy =0.8000880669308674MNB Classifier Accuracy =0.8000880669308674MNB Classifier Accuracy =0.8000880669308674MNB Classifier Accuracy =0.8000880669308674MNB Classifier Accuracy =0.8000880669308674MNB Classifier Accuracy =0.8000880669308674MNB Classifier Accuracy =0.8000880669308674MNB Classifier Accuracy =0.8000880669308674MNB Classifier Accuracy =0.8000880669308674MNB Classifier Accuracy =0.8000880669308674MNB Classifier Accuracy =0.8000880669308674MNB Classifier Accuracy =0.8000880669308674MNB Classifier Accuracy =0.8000880669308674MNB Classifier Accuracy =0.8000880669308674\n"
     ]
    },
    {
     "name": "stdout",
     "output_type": "stream",
     "text": [
      "Bernoulli Classifier Accuracy = 0.7930427124614707Bernoulli Classifier Accuracy = 0.7930427124614707Bernoulli Classifier Accuracy = 0.7930427124614707Bernoulli Classifier Accuracy = 0.7930427124614707Bernoulli Classifier Accuracy = 0.7930427124614707Bernoulli Classifier Accuracy = 0.7930427124614707Bernoulli Classifier Accuracy = 0.7930427124614707Bernoulli Classifier Accuracy = 0.7930427124614707Bernoulli Classifier Accuracy = 0.7930427124614707Bernoulli Classifier Accuracy = 0.7930427124614707Bernoulli Classifier Accuracy = 0.7930427124614707Bernoulli Classifier Accuracy = 0.7930427124614707Bernoulli Classifier Accuracy = 0.7930427124614707Bernoulli Classifier Accuracy = 0.7930427124614707Bernoulli Classifier Accuracy = 0.7930427124614707Bernoulli Classifier Accuracy = 0.7930427124614707Bernoulli Classifier Accuracy = 0.7930427124614707Bernoulli Classifier Accuracy = 0.7930427124614707Bernoulli Classifier Accuracy = 0.7930427124614707Bernoulli Classifier Accuracy = 0.7930427124614707Bernoulli Classifier Accuracy = 0.7930427124614707Bernoulli Classifier Accuracy = 0.7930427124614707Bernoulli Classifier Accuracy = 0.7930427124614707Bernoulli Classifier Accuracy = 0.7930427124614707Bernoulli Classifier Accuracy = 0.7930427124614707Bernoulli Classifier Accuracy = 0.7930427124614707Bernoulli Classifier Accuracy = 0.7930427124614707Bernoulli Classifier Accuracy = 0.7930427124614707Bernoulli Classifier Accuracy = 0.7930427124614707Bernoulli Classifier Accuracy = 0.7930427124614707Bernoulli Classifier Accuracy = 0.7930427124614707Bernoulli Classifier Accuracy = 0.7930427124614707Bernoulli Classifier Accuracy = 0.7930427124614707Bernoulli Classifier Accuracy = 0.7930427124614707Bernoulli Classifier Accuracy = 0.7930427124614707Bernoulli Classifier Accuracy = 0.7930427124614707Bernoulli Classifier Accuracy = 0.7930427124614707Bernoulli Classifier Accuracy = 0.7930427124614707Bernoulli Classifier Accuracy = 0.7930427124614707Bernoulli Classifier Accuracy = 0.7930427124614707Bernoulli Classifier Accuracy = 0.7930427124614707Bernoulli Classifier Accuracy = 0.7930427124614707Bernoulli Classifier Accuracy = 0.7930427124614707Bernoulli Classifier Accuracy = 0.7930427124614707Bernoulli Classifier Accuracy = 0.7930427124614707Bernoulli Classifier Accuracy = 0.7930427124614707Bernoulli Classifier Accuracy = 0.7930427124614707Bernoulli Classifier Accuracy = 0.7930427124614707Bernoulli Classifier Accuracy = 0.7930427124614707Bernoulli Classifier Accuracy = 0.7930427124614707Bernoulli Classifier Accuracy = 0.7930427124614707Bernoulli Classifier Accuracy = 0.7930427124614707Bernoulli Classifier Accuracy = 0.7930427124614707Bernoulli Classifier Accuracy = 0.7930427124614707Bernoulli Classifier Accuracy = 0.7930427124614707Bernoulli Classifier Accuracy = 0.7930427124614707Bernoulli Classifier Accuracy = 0.7930427124614707Bernoulli Classifier Accuracy = 0.7930427124614707Bernoulli Classifier Accuracy = 0.7930427124614707Bernoulli Classifier Accuracy = 0.7930427124614707Bernoulli Classifier Accuracy = 0.7930427124614707Bernoulli Classifier Accuracy = 0.7930427124614707Bernoulli Classifier Accuracy = 0.7930427124614707Bernoulli Classifier Accuracy = 0.7930427124614707Bernoulli Classifier Accuracy = 0.7930427124614707Bernoulli Classifier Accuracy = 0.7930427124614707Bernoulli Classifier Accuracy = 0.7930427124614707Bernoulli Classifier Accuracy = 0.7930427124614707Bernoulli Classifier Accuracy = 0.7930427124614707Bernoulli Classifier Accuracy = 0.7930427124614707Bernoulli Classifier Accuracy = 0.7930427124614707Bernoulli Classifier Accuracy = 0.7930427124614707Bernoulli Classifier Accuracy = 0.7930427124614707Bernoulli Classifier Accuracy = 0.7930427124614707Bernoulli Classifier Accuracy = 0.7930427124614707Bernoulli Classifier Accuracy = 0.7930427124614707Bernoulli Classifier Accuracy = 0.7930427124614707Bernoulli Classifier Accuracy = 0.7930427124614707Bernoulli Classifier Accuracy = 0.7930427124614707Bernoulli Classifier Accuracy = 0.7930427124614707Bernoulli Classifier Accuracy = 0.7930427124614707Bernoulli Classifier Accuracy = 0.7930427124614707Bernoulli Classifier Accuracy = 0.7930427124614707Bernoulli Classifier Accuracy = 0.7930427124614707Bernoulli Classifier Accuracy = 0.7930427124614707Bernoulli Classifier Accuracy = 0.7930427124614707Bernoulli Classifier Accuracy = 0.7930427124614707Bernoulli Classifier Accuracy = 0.7930427124614707Bernoulli Classifier Accuracy = 0.7930427124614707Bernoulli Classifier Accuracy = 0.7930427124614707Bernoulli Classifier Accuracy = 0.7930427124614707Bernoulli Classifier Accuracy = 0.7930427124614707Bernoulli Classifier Accuracy = 0.7930427124614707Bernoulli Classifier Accuracy = 0.7930427124614707Bernoulli Classifier Accuracy = 0.7930427124614707Bernoulli Classifier Accuracy = 0.7930427124614707Bernoulli Classifier Accuracy = 0.7930427124614707Bernoulli Classifier Accuracy = 0.7930427124614707Bernoulli Classifier Accuracy = 0.7930427124614707Bernoulli Classifier Accuracy = 0.7930427124614707\n",
      "LogisticRegression Classifier Accuracy = 0.7829150154117129LogisticRegression Classifier Accuracy = 0.7829150154117129LogisticRegression Classifier Accuracy = 0.7829150154117129LogisticRegression Classifier Accuracy = 0.7829150154117129LogisticRegression Classifier Accuracy = 0.7829150154117129LogisticRegression Classifier Accuracy = 0.7829150154117129LogisticRegression Classifier Accuracy = 0.7829150154117129LogisticRegression Classifier Accuracy = 0.7829150154117129LogisticRegression Classifier Accuracy = 0.7829150154117129LogisticRegression Classifier Accuracy = 0.7829150154117129LogisticRegression Classifier Accuracy = 0.7829150154117129LogisticRegression Classifier Accuracy = 0.7829150154117129LogisticRegression Classifier Accuracy = 0.7829150154117129LogisticRegression Classifier Accuracy = 0.7829150154117129LogisticRegression Classifier Accuracy = 0.7829150154117129LogisticRegression Classifier Accuracy = 0.7829150154117129LogisticRegression Classifier Accuracy = 0.7829150154117129LogisticRegression Classifier Accuracy = 0.7829150154117129LogisticRegression Classifier Accuracy = 0.7829150154117129LogisticRegression Classifier Accuracy = 0.7829150154117129LogisticRegression Classifier Accuracy = 0.7829150154117129LogisticRegression Classifier Accuracy = 0.7829150154117129LogisticRegression Classifier Accuracy = 0.7829150154117129LogisticRegression Classifier Accuracy = 0.7829150154117129LogisticRegression Classifier Accuracy = 0.7829150154117129LogisticRegression Classifier Accuracy = 0.7829150154117129LogisticRegression Classifier Accuracy = 0.7829150154117129LogisticRegression Classifier Accuracy = 0.7829150154117129LogisticRegression Classifier Accuracy = 0.7829150154117129LogisticRegression Classifier Accuracy = 0.7829150154117129LogisticRegression Classifier Accuracy = 0.7829150154117129LogisticRegression Classifier Accuracy = 0.7829150154117129LogisticRegression Classifier Accuracy = 0.7829150154117129LogisticRegression Classifier Accuracy = 0.7829150154117129LogisticRegression Classifier Accuracy = 0.7829150154117129LogisticRegression Classifier Accuracy = 0.7829150154117129LogisticRegression Classifier Accuracy = 0.7829150154117129LogisticRegression Classifier Accuracy = 0.7829150154117129LogisticRegression Classifier Accuracy = 0.7829150154117129LogisticRegression Classifier Accuracy = 0.7829150154117129LogisticRegression Classifier Accuracy = 0.7829150154117129LogisticRegression Classifier Accuracy = 0.7829150154117129LogisticRegression Classifier Accuracy = 0.7829150154117129LogisticRegression Classifier Accuracy = 0.7829150154117129LogisticRegression Classifier Accuracy = 0.7829150154117129LogisticRegression Classifier Accuracy = 0.7829150154117129LogisticRegression Classifier Accuracy = 0.7829150154117129LogisticRegression Classifier Accuracy = 0.7829150154117129LogisticRegression Classifier Accuracy = 0.7829150154117129LogisticRegression Classifier Accuracy = 0.7829150154117129LogisticRegression Classifier Accuracy = 0.7829150154117129LogisticRegression Classifier Accuracy = 0.7829150154117129LogisticRegression Classifier Accuracy = 0.7829150154117129LogisticRegression Classifier Accuracy = 0.7829150154117129LogisticRegression Classifier Accuracy = 0.7829150154117129LogisticRegression Classifier Accuracy = 0.7829150154117129LogisticRegression Classifier Accuracy = 0.7829150154117129LogisticRegression Classifier Accuracy = 0.7829150154117129LogisticRegression Classifier Accuracy = 0.7829150154117129LogisticRegression Classifier Accuracy = 0.7829150154117129LogisticRegression Classifier Accuracy = 0.7829150154117129LogisticRegression Classifier Accuracy = 0.7829150154117129LogisticRegression Classifier Accuracy = 0.7829150154117129LogisticRegression Classifier Accuracy = 0.7829150154117129LogisticRegression Classifier Accuracy = 0.7829150154117129LogisticRegression Classifier Accuracy = 0.7829150154117129LogisticRegression Classifier Accuracy = 0.7829150154117129LogisticRegression Classifier Accuracy = 0.7829150154117129LogisticRegression Classifier Accuracy = 0.7829150154117129LogisticRegression Classifier Accuracy = 0.7829150154117129LogisticRegression Classifier Accuracy = 0.7829150154117129LogisticRegression Classifier Accuracy = 0.7829150154117129LogisticRegression Classifier Accuracy = 0.7829150154117129LogisticRegression Classifier Accuracy = 0.7829150154117129LogisticRegression Classifier Accuracy = 0.7829150154117129LogisticRegression Classifier Accuracy = 0.7829150154117129LogisticRegression Classifier Accuracy = 0.7829150154117129LogisticRegression Classifier Accuracy = 0.7829150154117129LogisticRegression Classifier Accuracy = 0.7829150154117129LogisticRegression Classifier Accuracy = 0.7829150154117129LogisticRegression Classifier Accuracy = 0.7829150154117129LogisticRegression Classifier Accuracy = 0.7829150154117129LogisticRegression Classifier Accuracy = 0.7829150154117129LogisticRegression Classifier Accuracy = 0.7829150154117129LogisticRegression Classifier Accuracy = 0.7829150154117129LogisticRegression Classifier Accuracy = 0.7829150154117129LogisticRegression Classifier Accuracy = 0.7829150154117129LogisticRegression Classifier Accuracy = 0.7829150154117129LogisticRegression Classifier Accuracy = 0.7829150154117129LogisticRegression Classifier Accuracy = 0.7829150154117129LogisticRegression Classifier Accuracy = 0.7829150154117129LogisticRegression Classifier Accuracy = 0.7829150154117129LogisticRegression Classifier Accuracy = 0.7829150154117129LogisticRegression Classifier Accuracy = 0.7829150154117129LogisticRegression Classifier Accuracy = 0.7829150154117129LogisticRegression Classifier Accuracy = 0.7829150154117129LogisticRegression Classifier Accuracy = 0.7829150154117129LogisticRegression Classifier Accuracy = 0.7829150154117129LogisticRegression Classifier Accuracy = 0.7829150154117129LogisticRegression Classifier Accuracy = 0.7829150154117129\n"
     ]
    },
    {
     "name": "stdout",
     "output_type": "stream",
     "text": [
      "LinearSVC Classifier Accuracy = 0.7683839718185821LinearSVC Classifier Accuracy = 0.7683839718185821LinearSVC Classifier Accuracy = 0.7683839718185821LinearSVC Classifier Accuracy = 0.7683839718185821LinearSVC Classifier Accuracy = 0.7683839718185821LinearSVC Classifier Accuracy = 0.7683839718185821LinearSVC Classifier Accuracy = 0.7683839718185821LinearSVC Classifier Accuracy = 0.7683839718185821LinearSVC Classifier Accuracy = 0.7683839718185821LinearSVC Classifier Accuracy = 0.7683839718185821LinearSVC Classifier Accuracy = 0.7683839718185821LinearSVC Classifier Accuracy = 0.7683839718185821LinearSVC Classifier Accuracy = 0.7683839718185821LinearSVC Classifier Accuracy = 0.7683839718185821LinearSVC Classifier Accuracy = 0.7683839718185821LinearSVC Classifier Accuracy = 0.7683839718185821LinearSVC Classifier Accuracy = 0.7683839718185821LinearSVC Classifier Accuracy = 0.7683839718185821LinearSVC Classifier Accuracy = 0.7683839718185821LinearSVC Classifier Accuracy = 0.7683839718185821LinearSVC Classifier Accuracy = 0.7683839718185821LinearSVC Classifier Accuracy = 0.7683839718185821LinearSVC Classifier Accuracy = 0.7683839718185821LinearSVC Classifier Accuracy = 0.7683839718185821LinearSVC Classifier Accuracy = 0.7683839718185821LinearSVC Classifier Accuracy = 0.7683839718185821LinearSVC Classifier Accuracy = 0.7683839718185821LinearSVC Classifier Accuracy = 0.7683839718185821LinearSVC Classifier Accuracy = 0.7683839718185821LinearSVC Classifier Accuracy = 0.7683839718185821LinearSVC Classifier Accuracy = 0.7683839718185821LinearSVC Classifier Accuracy = 0.7683839718185821LinearSVC Classifier Accuracy = 0.7683839718185821LinearSVC Classifier Accuracy = 0.7683839718185821LinearSVC Classifier Accuracy = 0.7683839718185821LinearSVC Classifier Accuracy = 0.7683839718185821LinearSVC Classifier Accuracy = 0.7683839718185821LinearSVC Classifier Accuracy = 0.7683839718185821LinearSVC Classifier Accuracy = 0.7683839718185821LinearSVC Classifier Accuracy = 0.7683839718185821LinearSVC Classifier Accuracy = 0.7683839718185821LinearSVC Classifier Accuracy = 0.7683839718185821LinearSVC Classifier Accuracy = 0.7683839718185821LinearSVC Classifier Accuracy = 0.7683839718185821LinearSVC Classifier Accuracy = 0.7683839718185821LinearSVC Classifier Accuracy = 0.7683839718185821LinearSVC Classifier Accuracy = 0.7683839718185821LinearSVC Classifier Accuracy = 0.7683839718185821LinearSVC Classifier Accuracy = 0.7683839718185821LinearSVC Classifier Accuracy = 0.7683839718185821LinearSVC Classifier Accuracy = 0.7683839718185821LinearSVC Classifier Accuracy = 0.7683839718185821LinearSVC Classifier Accuracy = 0.7683839718185821LinearSVC Classifier Accuracy = 0.7683839718185821LinearSVC Classifier Accuracy = 0.7683839718185821LinearSVC Classifier Accuracy = 0.7683839718185821LinearSVC Classifier Accuracy = 0.7683839718185821LinearSVC Classifier Accuracy = 0.7683839718185821LinearSVC Classifier Accuracy = 0.7683839718185821LinearSVC Classifier Accuracy = 0.7683839718185821LinearSVC Classifier Accuracy = 0.7683839718185821LinearSVC Classifier Accuracy = 0.7683839718185821LinearSVC Classifier Accuracy = 0.7683839718185821LinearSVC Classifier Accuracy = 0.7683839718185821LinearSVC Classifier Accuracy = 0.7683839718185821LinearSVC Classifier Accuracy = 0.7683839718185821LinearSVC Classifier Accuracy = 0.7683839718185821LinearSVC Classifier Accuracy = 0.7683839718185821LinearSVC Classifier Accuracy = 0.7683839718185821LinearSVC Classifier Accuracy = 0.7683839718185821LinearSVC Classifier Accuracy = 0.7683839718185821LinearSVC Classifier Accuracy = 0.7683839718185821LinearSVC Classifier Accuracy = 0.7683839718185821LinearSVC Classifier Accuracy = 0.7683839718185821LinearSVC Classifier Accuracy = 0.7683839718185821LinearSVC Classifier Accuracy = 0.7683839718185821LinearSVC Classifier Accuracy = 0.7683839718185821LinearSVC Classifier Accuracy = 0.7683839718185821LinearSVC Classifier Accuracy = 0.7683839718185821LinearSVC Classifier Accuracy = 0.7683839718185821LinearSVC Classifier Accuracy = 0.7683839718185821LinearSVC Classifier Accuracy = 0.7683839718185821LinearSVC Classifier Accuracy = 0.7683839718185821LinearSVC Classifier Accuracy = 0.7683839718185821LinearSVC Classifier Accuracy = 0.7683839718185821LinearSVC Classifier Accuracy = 0.7683839718185821LinearSVC Classifier Accuracy = 0.7683839718185821LinearSVC Classifier Accuracy = 0.7683839718185821LinearSVC Classifier Accuracy = 0.7683839718185821LinearSVC Classifier Accuracy = 0.7683839718185821LinearSVC Classifier Accuracy = 0.7683839718185821LinearSVC Classifier Accuracy = 0.7683839718185821LinearSVC Classifier Accuracy = 0.7683839718185821LinearSVC Classifier Accuracy = 0.7683839718185821LinearSVC Classifier Accuracy = 0.7683839718185821LinearSVC Classifier Accuracy = 0.7683839718185821LinearSVC Classifier Accuracy = 0.7683839718185821LinearSVC Classifier Accuracy = 0.7683839718185821LinearSVC Classifier Accuracy = 0.7683839718185821LinearSVC Classifier Accuracy = 0.7683839718185821\n",
      "SGDC Classifier Accuracy = 0.7626596213121972SGDC Classifier Accuracy = 0.7626596213121972SGDC Classifier Accuracy = 0.7626596213121972SGDC Classifier Accuracy = 0.7626596213121972SGDC Classifier Accuracy = 0.7626596213121972SGDC Classifier Accuracy = 0.7626596213121972SGDC Classifier Accuracy = 0.7626596213121972SGDC Classifier Accuracy = 0.7626596213121972SGDC Classifier Accuracy = 0.7626596213121972SGDC Classifier Accuracy = 0.7626596213121972SGDC Classifier Accuracy = 0.7626596213121972SGDC Classifier Accuracy = 0.7626596213121972SGDC Classifier Accuracy = 0.7626596213121972SGDC Classifier Accuracy = 0.7626596213121972SGDC Classifier Accuracy = 0.7626596213121972SGDC Classifier Accuracy = 0.7626596213121972SGDC Classifier Accuracy = 0.7626596213121972SGDC Classifier Accuracy = 0.7626596213121972SGDC Classifier Accuracy = 0.7626596213121972SGDC Classifier Accuracy = 0.7626596213121972SGDC Classifier Accuracy = 0.7626596213121972SGDC Classifier Accuracy = 0.7626596213121972SGDC Classifier Accuracy = 0.7626596213121972SGDC Classifier Accuracy = 0.7626596213121972SGDC Classifier Accuracy = 0.7626596213121972SGDC Classifier Accuracy = 0.7626596213121972SGDC Classifier Accuracy = 0.7626596213121972SGDC Classifier Accuracy = 0.7626596213121972SGDC Classifier Accuracy = 0.7626596213121972SGDC Classifier Accuracy = 0.7626596213121972SGDC Classifier Accuracy = 0.7626596213121972SGDC Classifier Accuracy = 0.7626596213121972SGDC Classifier Accuracy = 0.7626596213121972SGDC Classifier Accuracy = 0.7626596213121972SGDC Classifier Accuracy = 0.7626596213121972SGDC Classifier Accuracy = 0.7626596213121972SGDC Classifier Accuracy = 0.7626596213121972SGDC Classifier Accuracy = 0.7626596213121972SGDC Classifier Accuracy = 0.7626596213121972SGDC Classifier Accuracy = 0.7626596213121972SGDC Classifier Accuracy = 0.7626596213121972SGDC Classifier Accuracy = 0.7626596213121972SGDC Classifier Accuracy = 0.7626596213121972SGDC Classifier Accuracy = 0.7626596213121972SGDC Classifier Accuracy = 0.7626596213121972SGDC Classifier Accuracy = 0.7626596213121972SGDC Classifier Accuracy = 0.7626596213121972SGDC Classifier Accuracy = 0.7626596213121972SGDC Classifier Accuracy = 0.7626596213121972SGDC Classifier Accuracy = 0.7626596213121972SGDC Classifier Accuracy = 0.7626596213121972SGDC Classifier Accuracy = 0.7626596213121972SGDC Classifier Accuracy = 0.7626596213121972SGDC Classifier Accuracy = 0.7626596213121972SGDC Classifier Accuracy = 0.7626596213121972SGDC Classifier Accuracy = 0.7626596213121972SGDC Classifier Accuracy = 0.7626596213121972SGDC Classifier Accuracy = 0.7626596213121972SGDC Classifier Accuracy = 0.7626596213121972SGDC Classifier Accuracy = 0.7626596213121972SGDC Classifier Accuracy = 0.7626596213121972SGDC Classifier Accuracy = 0.7626596213121972SGDC Classifier Accuracy = 0.7626596213121972SGDC Classifier Accuracy = 0.7626596213121972SGDC Classifier Accuracy = 0.7626596213121972SGDC Classifier Accuracy = 0.7626596213121972SGDC Classifier Accuracy = 0.7626596213121972SGDC Classifier Accuracy = 0.7626596213121972SGDC Classifier Accuracy = 0.7626596213121972SGDC Classifier Accuracy = 0.7626596213121972SGDC Classifier Accuracy = 0.7626596213121972SGDC Classifier Accuracy = 0.7626596213121972SGDC Classifier Accuracy = 0.7626596213121972SGDC Classifier Accuracy = 0.7626596213121972SGDC Classifier Accuracy = 0.7626596213121972SGDC Classifier Accuracy = 0.7626596213121972SGDC Classifier Accuracy = 0.7626596213121972SGDC Classifier Accuracy = 0.7626596213121972SGDC Classifier Accuracy = 0.7626596213121972SGDC Classifier Accuracy = 0.7626596213121972SGDC Classifier Accuracy = 0.7626596213121972SGDC Classifier Accuracy = 0.7626596213121972SGDC Classifier Accuracy = 0.7626596213121972SGDC Classifier Accuracy = 0.7626596213121972SGDC Classifier Accuracy = 0.7626596213121972SGDC Classifier Accuracy = 0.7626596213121972SGDC Classifier Accuracy = 0.7626596213121972SGDC Classifier Accuracy = 0.7626596213121972SGDC Classifier Accuracy = 0.7626596213121972SGDC Classifier Accuracy = 0.7626596213121972SGDC Classifier Accuracy = 0.7626596213121972SGDC Classifier Accuracy = 0.7626596213121972SGDC Classifier Accuracy = 0.7626596213121972SGDC Classifier Accuracy = 0.7626596213121972SGDC Classifier Accuracy = 0.7626596213121972SGDC Classifier Accuracy = 0.7626596213121972SGDC Classifier Accuracy = 0.7626596213121972SGDC Classifier Accuracy = 0.7626596213121972SGDC Classifier Accuracy = 0.7626596213121972SGDC Classifier Accuracy = 0.7626596213121972\n"
     ]
    },
    {
     "name": "stdout",
     "output_type": "stream",
     "text": [
      "Voted classifier accuracy = 79.56847203874945\n"
     ]
    }
   ],
   "source": [
    "featuresets = [(find_features(rev),category) for (rev,category) in documents]\n",
    "\n",
    "random.shuffle(featuresets)\n",
    "print(len(featuresets))\n",
    "\n",
    "testing_set = featuresets[5000:]\n",
    "training_set = featuresets[:5000]\n",
    "\n",
    "classifier = nltk.NaiveBayesClassifier.train(training_set)\n",
    "print(\"Naive Bayes Accuracy = {}\".format(nltk.classify.accuracy(classifier,testing_set))*100)\n",
    "classifier.show_most_informative_features(15)\n",
    "\n",
    "save_classifier = open(\"pickled_algos/originalnaivebayes5k.pickle\",\"wb\")\n",
    "pickle.dump(classifier,save_classifier)\n",
    "save_classifier.close()\n",
    "\n",
    "MNB_classifier = SklearnClassifier(MultinomialNB())\n",
    "MNB_classifier.train(training_set)\n",
    "print(\"MNB Classifier Accuracy ={}\".format(nltk.classify.accuracy(MNB_classifier,testing_set))*100)\n",
    "\n",
    "save_classifier = open(\"pickled_algos/MNB_classifier5k.pickle\",\"wb\")\n",
    "pickle.dump(MNB_classifier,save_classifier)\n",
    "save_classifier.close()\n",
    "\n",
    "BernoulliNB_classifier = SklearnClassifier(BernoulliNB())\n",
    "BernoulliNB_classifier.train(training_set)\n",
    "print(\"Bernoulli Classifier Accuracy = {}\".format(nltk.classify.accuracy(BernoulliNB_classifier,testing_set))*100)\n",
    "\n",
    "save_classifier = open(\"pickled_algos/BernoulliNB_classifier5k.pickle\",\"wb\")\n",
    "pickle.dump(BernoulliNB_classifier,save_classifier)\n",
    "save_classifier.close()\n",
    "\n",
    "LogisticRegression_classifier = SklearnClassifier(LogisticRegression())\n",
    "LogisticRegression_classifier.train(training_set)\n",
    "print(\"LogisticRegression Classifier Accuracy = {}\".format(nltk.classify.accuracy(LogisticRegression_classifier,testing_set))*100)\n",
    "\n",
    "save_classifier = open(\"pickled_algos/LogisticRegression_classifier5k.pickle\",\"wb\")\n",
    "pickle.dump(LogisticRegression_classifier,save_classifier)\n",
    "save_classifier.close()\n",
    "\n",
    "LinearSVC_classifier = SklearnClassifier(LinearSVC())\n",
    "LinearSVC_classifier.train(training_set)\n",
    "print(\"LinearSVC Classifier Accuracy = {}\".format(nltk.classify.accuracy(LinearSVC_classifier,testing_set))*100)\n",
    "\n",
    "save_classifier = open(\"pickled_algos/LinearSVC_classifier5k.pickle\",\"wb\")\n",
    "pickle.dump(LinearSVC_classifier,save_classifier)\n",
    "save_classifier.close()\n",
    "\n",
    "SGDC_classifier = SklearnClassifier(SGDClassifier())\n",
    "SGDC_classifier.train(training_set)\n",
    "print(\"SGDC Classifier Accuracy = {}\".format(nltk.classify.accuracy(SGDC_classifier,testing_set))*100)\n",
    "\n",
    "save_classifier = open(\"pickled_algos/SGDC_classifier5k.pickle\",\"wb\")\n",
    "pickle.dump(SGDC_classifier,save_classifier)\n",
    "save_classifier.close()\n",
    "\n",
    "voted_classifier = VoteClassifier(classifier,LinearSVC_classifier,MNB_classifier,BernoulliNB_classifier,LogisticRegression_classifier)\n",
    "print(\"Voted classifier accuracy =\",(nltk.classify.accuracy(voted_classifier,testing_set))*100)"
   ]
  },
  {
   "cell_type": "code",
   "execution_count": null,
   "metadata": {},
   "outputs": [],
   "source": [
    "def sentiment(text):\n",
    "    feats = find_features(text)\n",
    "    \n",
    "    return voted_classifier.classify(feats)"
   ]
  },
  {
   "cell_type": "code",
   "execution_count": null,
   "metadata": {},
   "outputs": [],
   "source": []
  }
 ],
 "metadata": {
  "kernelspec": {
   "display_name": "Python 3",
   "language": "python",
   "name": "python3"
  },
  "language_info": {
   "codemirror_mode": {
    "name": "ipython",
    "version": 3
   },
   "file_extension": ".py",
   "mimetype": "text/x-python",
   "name": "python",
   "nbconvert_exporter": "python",
   "pygments_lexer": "ipython3",
   "version": "3.8.1"
  }
 },
 "nbformat": 4,
 "nbformat_minor": 4
}
